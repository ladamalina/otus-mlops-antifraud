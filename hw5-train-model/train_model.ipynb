{
 "cells": [
  {
   "cell_type": "code",
   "execution_count": 1,
   "id": "47ff4ada-797a-43fa-a788-6774f8cfac51",
   "metadata": {
    "tags": []
   },
   "outputs": [
    {
     "name": "stdout",
     "output_type": "stream",
     "text": [
      "Using matplotlib backend: <object object at 0x7fd9b4c5e6b0>\n"
     ]
    },
    {
     "name": "stderr",
     "output_type": "stream",
     "text": [
      "OpenJDK 64-Bit Server VM warning: Option UseConcMarkSweepGC was deprecated in version 9.0 and will likely be removed in a future release.\n",
      "SLF4J: Class path contains multiple SLF4J bindings.\n",
      "SLF4J: Found binding in [jar:file:/usr/lib/spark/jars/slf4j-log4j12-1.7.30.jar!/org/slf4j/impl/StaticLoggerBinder.class]\n",
      "SLF4J: Found binding in [jar:file:/usr/lib/hadoop/lib/slf4j-log4j12-1.7.25.jar!/org/slf4j/impl/StaticLoggerBinder.class]\n",
      "SLF4J: See http://www.slf4j.org/codes.html#multiple_bindings for an explanation.\n",
      "SLF4J: Actual binding is of type [org.slf4j.impl.Log4jLoggerFactory]\n",
      "2023-03-20 19:58:11,232 WARN util.Utils: Your hostname, mlops-airflow resolves to a loopback address: 127.0.1.1; using 10.128.0.16 instead (on interface eth0)\n",
      "2023-03-20 19:58:11,232 WARN util.Utils: Set SPARK_LOCAL_IP if you need to bind to another address\n",
      "WARNING: An illegal reflective access operation has occurred\n",
      "WARNING: Illegal reflective access by org.apache.spark.unsafe.Platform (file:/usr/lib/spark/jars/spark-unsafe_2.12-3.0.3.jar) to constructor java.nio.DirectByteBuffer(long,int)\n",
      "WARNING: Please consider reporting this to the maintainers of org.apache.spark.unsafe.Platform\n",
      "WARNING: Use --illegal-access=warn to enable warnings of further illegal reflective access operations\n",
      "WARNING: All illegal access operations will be denied in a future release\n",
      "Setting default log level to \"WARN\".\n",
      "To adjust logging level use sc.setLogLevel(newLevel). For SparkR, use setLogLevel(newLevel).\n",
      "2023-03-20 19:58:15,170 WARN util.Utils: spark.executor.instances less than spark.dynamicAllocation.minExecutors is invalid, ignoring its setting, please update your configs.\n",
      "2023-03-20 19:58:23,605 WARN util.Utils: spark.executor.instances less than spark.dynamicAllocation.minExecutors is invalid, ignoring its setting, please update your configs.\n"
     ]
    }
   ],
   "source": [
    "import datetime as dt\n",
    "import findspark\n",
    "import numpy as np\n",
    "import logging\n",
    "import matplotlib.pyplot as plt\n",
    "import mlflow\n",
    "import os\n",
    "import pandas as pd\n",
    "import pickle\n",
    "import pyspark\n",
    "import random\n",
    "import sys\n",
    "import time\n",
    "import warnings\n",
    "\n",
    "from collections import Counter\n",
    "from IPython import get_ipython\n",
    "from pyspark.sql import SparkSession\n",
    "from pyspark.sql.types import *\n",
    "from pyspark.ml.feature import VectorAssembler\n",
    "from pyspark.mllib.evaluation import BinaryClassificationMetrics\n",
    "from pyspark.ml.evaluation import BinaryClassificationEvaluator\n",
    "from pyspark.ml.classification import RandomForestClassifier as pysparkRF\n",
    "from pyspark.ml.tuning import ParamGridBuilder, TrainValidationSplit\n",
    "from pyspark.ml import Pipeline\n",
    "from sklearn import metrics\n",
    "from sklearn.ensemble import RandomForestClassifier\n",
    "from sklearn.model_selection import RandomizedSearchCV, PredefinedSplit\n",
    "from sklearn.utils import parallel_backend\n",
    "from tqdm import tqdm\n",
    "from typing import List\n",
    "\n",
    "tqdm.pandas()\n",
    "get_ipython().run_line_magic('matplotlib', '')\n",
    "warnings.filterwarnings(\"ignore\")\n",
    "\n",
    "logging.basicConfig(\n",
    "    level=logging.INFO,\n",
    "    format='%(asctime)s.%(msecs)03d %(levelname)s %(module)s - %(funcName)s: %(message)s',\n",
    "    datefmt='%Y-%m-%d %H:%M:%S',\n",
    ")\n",
    "\n",
    "dt_format = \"%Y-%m-%d\"\n",
    "dt_format_full = f\"{dt_format} %H:%M:%S\"\n",
    "\n",
    "findspark.init()\n",
    "findspark.find()\n",
    "\n",
    "spark = (\n",
    "    SparkSession.builder\n",
    "    .appName(\"train_model\")\n",
    "    .master(\"yarn\")\n",
    "    .config(\"spark.executor.cores\", \"2\")\n",
    "    .config(\"spark.hadoop.fs.s3.impl\", \"org.apache.hadoop.fs.s3a.S3AFileSystem\")\n",
    "    .getOrCreate()\n",
    ")\n",
    "spark.conf.set(\"spark.sql.repl.eagerEval.enabled\", True)\n",
    "spark.sparkContext.setLogLevel('ERROR')"
   ]
  },
  {
   "cell_type": "markdown",
   "id": "7a2bcbf7-94e5-459e-89bb-553cd47fdd07",
   "metadata": {
    "tags": []
   },
   "source": [
    "## Read source data"
   ]
  },
  {
   "cell_type": "code",
   "execution_count": 2,
   "id": "09e7b0cf-7966-4d45-9627-e306c70c6f07",
   "metadata": {
    "tags": []
   },
   "outputs": [],
   "source": [
    "date_from = \"2023-03-19\"\n",
    "date_to = \"2023-03-19\"\n",
    "hdfs_host = \"rc1a-dataproc-m-jyttnmhm6xuzhmkj.mdb.yandexcloud.net\"\n",
    "hdfs_dirs_input = [\"/fraud-data-processed/2023-03-19.parquet\"]\n",
    "\n",
    "dt_from = dt.datetime.strptime(f\"{date_from} 00:00:00\", dt_format_full)\n",
    "dt_to = dt.datetime.strptime(f\"{date_to} 23:59:59\", dt_format_full)\n",
    "\n",
    "\n",
    "def read_transactions_df(spark: SparkSession, dt_from: dt.datetime, dt_to: dt.datetime, hdfs_dirs_input: List[str]):\n",
    "    logging.info(f\"Reading {hdfs_dirs_input}\")\n",
    "    # df = spark.read.schema(schema).parquet(*hdfs_dirs_input)\n",
    "    df = spark.read.parquet(*hdfs_dirs_input)\n",
    "    logging.info(f\"Filtering data using window {dt_from} <= dt <= {dt_to}\")\n",
    "    df = df.filter((df.tx_datetime >= dt_from) & (df.tx_datetime <= dt_to))\n",
    "    logging.info(f\"Rows to process: {df.count()}\")\n",
    "    \n",
    "    return df"
   ]
  },
  {
   "cell_type": "code",
   "execution_count": 3,
   "id": "61286ad2-a757-4e7c-8aed-5e0b82c084ee",
   "metadata": {
    "tags": []
   },
   "outputs": [
    {
     "name": "stderr",
     "output_type": "stream",
     "text": [
      "2023-03-20 19:58:29.262 INFO 4106497 - read_transactions_df: Reading ['/fraud-data-processed/2023-03-19.parquet']\n",
      "2023-03-20 19:58:36.632 INFO 4106497 - read_transactions_df: Filtering data using window 2023-03-19 00:00:00 <= dt <= 2023-03-19 23:59:59\n",
      "2023-03-20 19:58:44.720 INFO 4106497 - read_transactions_df: Rows to process: 192718\n"
     ]
    },
    {
     "name": "stdout",
     "output_type": "stream",
     "text": [
      "root\n",
      " |-- transaction_id: long (nullable = true)\n",
      " |-- tx_datetime: timestamp (nullable = true)\n",
      " |-- customer_id: long (nullable = true)\n",
      " |-- terminal_id: long (nullable = true)\n",
      " |-- tx_amount: double (nullable = true)\n",
      " |-- tx_time_seconds: long (nullable = true)\n",
      " |-- tx_time_days: long (nullable = true)\n",
      " |-- tx_fraud: long (nullable = true)\n",
      " |-- tx_fraud_scenario: long (nullable = true)\n",
      " |-- tx_during_weekend: integer (nullable = true)\n",
      " |-- tx_during_night: integer (nullable = true)\n",
      " |-- customer_id_nb_tx_1day_window: long (nullable = true)\n",
      " |-- customer_id_avg_amount_1day_window: double (nullable = true)\n",
      " |-- customer_id_nb_tx_3day_window: long (nullable = true)\n",
      " |-- customer_id_avg_amount_3day_window: double (nullable = true)\n",
      " |-- customer_id_nb_tx_7day_window: long (nullable = true)\n",
      " |-- customer_id_avg_amount_7day_window: double (nullable = true)\n",
      " |-- terminal_id_nb_tx_1day_window: long (nullable = true)\n",
      " |-- terminal_id_risk_1day_window: double (nullable = true)\n",
      " |-- terminal_id_nb_tx_3day_window: long (nullable = true)\n",
      " |-- terminal_id_risk_3day_window: double (nullable = true)\n",
      " |-- terminal_id_nb_tx_7day_window: long (nullable = true)\n",
      " |-- terminal_id_risk_7day_window: double (nullable = true)\n",
      "\n"
     ]
    }
   ],
   "source": [
    "transactions_df = read_transactions_df(spark, dt_from, dt_to, hdfs_dirs_input)\n",
    "transactions_df.printSchema()"
   ]
  },
  {
   "cell_type": "markdown",
   "id": "b8e9290a-194e-4bb7-bada-2493223e21b7",
   "metadata": {
    "tags": []
   },
   "source": [
    "## Split train and test data"
   ]
  },
  {
   "cell_type": "code",
   "execution_count": 4,
   "id": "ab99fc6a-5770-44ec-9c7a-73824a9294ed",
   "metadata": {
    "tags": []
   },
   "outputs": [],
   "source": [
    "from pyspark.sql.functions import explode, split, lit\n",
    "from typing import Tuple\n",
    "\n",
    "\n",
    "def get_train_test_df(df, fraction: float) -> Tuple:\n",
    "    logging.info(f\"Splitting train & test with {fraction=}\")\n",
    "    fractions = df.select(\"tx_fraud\").distinct().withColumn(\"fraction\", lit(0.8)).rdd.collectAsMap()\n",
    "    \n",
    "    train_df = df.sampleBy(\"tx_fraud\", fractions)\n",
    "    logging.info(f\"Train: {train_df.count()=}\")\n",
    "    train_frauds = train_df.filter(train_df.tx_fraud == 1).count()\n",
    "    train_frauds_fraction = train_frauds / train_df.count()\n",
    "    logging.info(f\"{train_frauds=}, {train_frauds_fraction*100:.2f}%\")\n",
    "    \n",
    "    test_df = df.subtract(train_df)\n",
    "    logging.info(f\"Test: {test_df.count()=}\")\n",
    "    test_frauds = test_df.filter(test_df.tx_fraud == 1).count()\n",
    "    test_frauds_fraction = test_frauds / test_df.count()\n",
    "    logging.info(f\"{test_frauds=}, {test_frauds_fraction*100:.2f}%\")\n",
    "    \n",
    "    return train_df, test_df"
   ]
  },
  {
   "cell_type": "code",
   "execution_count": 5,
   "id": "43dea9e3-2eed-4fd5-8c32-a10c78488b05",
   "metadata": {
    "tags": []
   },
   "outputs": [
    {
     "name": "stderr",
     "output_type": "stream",
     "text": [
      "2023-03-20 19:58:44.834 INFO 1373549324 - get_train_test_df: Splitting train & test with fraction=0.8\n",
      "2023-03-20 19:58:53.686 INFO 1373549324 - get_train_test_df: Train: train_df.count()=154230\n",
      "2023-03-20 19:58:57.189 INFO 1373549324 - get_train_test_df: train_frauds=2384, 1.55%\n",
      "2023-03-20 19:59:07.722 INFO 1373549324 - get_train_test_df: Test: test_df.count()=38488\n",
      "2023-03-20 19:59:20.570 INFO 1373549324 - get_train_test_df: test_frauds=663, 1.72%\n"
     ]
    }
   ],
   "source": [
    "train_df, test_df = get_train_test_df(transactions_df, 0.8)"
   ]
  },
  {
   "cell_type": "markdown",
   "id": "1c702e39-64f7-486d-bdf4-c5a091198db9",
   "metadata": {
    "tags": []
   },
   "source": [
    "## Pipeline"
   ]
  },
  {
   "cell_type": "code",
   "execution_count": 6,
   "id": "c250fbd6-988f-4433-9ac7-2323962cca2b",
   "metadata": {
    "tags": []
   },
   "outputs": [],
   "source": [
    "input_features = [\"tx_amount\", \"tx_during_weekend\", \"tx_during_night\",\n",
    "                  \"customer_id_nb_tx_1day_window\", \"customer_id_avg_amount_1day_window\",\n",
    "                  \"customer_id_nb_tx_3day_window\", \"customer_id_avg_amount_3day_window\",\n",
    "                  \"customer_id_nb_tx_7day_window\", \"customer_id_avg_amount_7day_window\",\n",
    "                  \"terminal_id_nb_tx_1day_window\", \"terminal_id_risk_1day_window\",\n",
    "                  \"terminal_id_nb_tx_3day_window\", \"terminal_id_risk_3day_window\",\n",
    "                  \"terminal_id_nb_tx_7day_window\", \"terminal_id_risk_7day_window\"]\n",
    "\n",
    "output_feature = \"tx_fraud\""
   ]
  },
  {
   "cell_type": "code",
   "execution_count": 7,
   "id": "c70f238c-c21e-49bf-a417-4767582bdacb",
   "metadata": {
    "tags": []
   },
   "outputs": [],
   "source": [
    "from pyspark.ml import Pipeline\n",
    "\n",
    "from pyspark.ml.classification import RandomForestClassifier\n",
    "from pyspark.ml.evaluation import MulticlassClassificationEvaluator\n",
    "from pyspark.ml.feature import VectorAssembler\n",
    "from pyspark.ml.feature import PCA\n",
    "from pyspark.ml.tuning import CrossValidator, TrainValidationSplit, ParamGridBuilder\n",
    "\n",
    "\n",
    "# convert dataframe to vector\n",
    "vec_assembler = VectorAssembler(inputCols=input_features, outputCol=\"features\")"
   ]
  },
  {
   "cell_type": "code",
   "execution_count": 8,
   "id": "5238b158-b22c-4965-88db-ebe168db32f5",
   "metadata": {
    "tags": []
   },
   "outputs": [],
   "source": [
    "# create PCA (when we have a lot of columns or features)\n",
    "# pca = PCA(k=5, inputCol=\"va\", outputCol=\"features\")"
   ]
  },
  {
   "cell_type": "code",
   "execution_count": 9,
   "id": "a84fccb4-790a-4e99-9ed7-72b98e4a85dd",
   "metadata": {
    "tags": []
   },
   "outputs": [],
   "source": [
    "rf_classifier = RandomForestClassifier(labelCol=output_feature, featuresCol=\"features\")"
   ]
  },
  {
   "cell_type": "code",
   "execution_count": 10,
   "id": "a8cfa247-a88a-432d-a16c-134149a88696",
   "metadata": {
    "tags": []
   },
   "outputs": [],
   "source": [
    "# pipeline = Pipeline(stages=[vec_assembler, pca, rf_classifier])\n",
    "pipeline = Pipeline(stages=[vec_assembler, rf_classifier])"
   ]
  },
  {
   "cell_type": "markdown",
   "id": "4e85eda1-9e0c-436c-b408-954af2775bc4",
   "metadata": {},
   "source": [
    "## Tuning Hyperparameters"
   ]
  },
  {
   "cell_type": "code",
   "execution_count": 11,
   "id": "18ef9564-6623-4922-a12b-d8d111e82716",
   "metadata": {
    "tags": []
   },
   "outputs": [],
   "source": [
    "class RandomGridBuilder:\n",
    "    '''Grid builder for random search. Sets up grids for use in CrossValidator in Spark using values randomly sampled from user-provided distributions.\n",
    "    Distributions should be provided as lambda functions, so that the numbers are generated at call time.\n",
    "  \n",
    "    Parameters:\n",
    "      num_models: Integer (Python) - number of models to generate hyperparameters for\n",
    "      seed: Integer (Python) - seed (optional, default is None)\n",
    "  \n",
    "    Returns:\n",
    "      param_map: list of parameter maps to use in cross validation.\n",
    "  \n",
    "    Example usage:\n",
    "      from pyspark.ml.classification import LogisticRegression\n",
    "      lr = LogisticRegression()\n",
    "      paramGrid = RandomGridBuilder(2)\\\n",
    "                 .addDistr(lr.regParam, lambda: np.random.rand()) \\\n",
    "                 .addDistr(lr.maxIter, lambda : np.random.randint(10))\\\n",
    "                 .build()\n",
    "  \n",
    "      Returns similar output as Spark ML class ParamGridBuilder and can be used in its place. The above paramGrid provides random hyperparameters for 2 models.\n",
    "      '''\n",
    "\n",
    "    def __init__(self, num_models, seed=None):\n",
    "        self._param_grid = {}\n",
    "        self.num_models = num_models\n",
    "        self.seed = seed\n",
    "\n",
    "    def addDistr(self, param, distr_generator):\n",
    "        '''Add distribution based on dictionary generated by function passed to addDistr.'''\n",
    "\n",
    "        if 'pyspark.ml.param.Param' in str(type(param)):\n",
    "            self._param_grid[param] = distr_generator\n",
    "        else:\n",
    "            raise TypeError('param must be an instance of Param')\n",
    "\n",
    "        return self\n",
    "\n",
    "    def build(self):\n",
    "        param_map = []\n",
    "        for n in range(self.num_models):\n",
    "            if self.seed:\n",
    "                # Set seeds for both numpy and random in case either is used for the random distribution\n",
    "                np.random.seed(self.seed + n)\n",
    "                random.seed(self.seed + n)\n",
    "            param_dict = {}\n",
    "            for param, distr in self._param_grid.items():\n",
    "                param_dict[param] = distr()\n",
    "            param_map.append(param_dict)\n",
    "\n",
    "        return param_map"
   ]
  },
  {
   "cell_type": "code",
   "execution_count": 12,
   "id": "89afe487-eac9-40e2-8499-06fb0031a3c4",
   "metadata": {
    "tags": []
   },
   "outputs": [],
   "source": [
    "evaluator = BinaryClassificationEvaluator(labelCol=output_feature)\n",
    "\n",
    "param_grid = (RandomGridBuilder(12)\n",
    "    .addDistr(rf_classifier.maxDepth, lambda: np.random.randint(1, 16))\n",
    "    .addDistr(rf_classifier.maxBins,  lambda: np.random.randint(20, 100))\n",
    "    .addDistr(rf_classifier.numTrees, lambda: np.random.randint(5, 50))\n",
    "    .addDistr(rf_classifier.impurity, lambda: np.random.choice(['gini', 'entropy']))\n",
    "    .build())\n",
    "\n",
    "validator = CrossValidator(estimator=pipeline,\n",
    "                           estimatorParamMaps=param_grid,\n",
    "                           evaluator=evaluator,\n",
    "                           numFolds=10,\n",
    "                           parallelism=2)"
   ]
  },
  {
   "cell_type": "code",
   "execution_count": 13,
   "id": "48f26ed1-ee0d-4fc8-983f-99b1a923be62",
   "metadata": {
    "tags": []
   },
   "outputs": [
    {
     "name": "stderr",
     "output_type": "stream",
     "text": [
      "                                                                                \r"
     ]
    }
   ],
   "source": [
    "model_cv = validator.fit(train_df)"
   ]
  },
  {
   "cell_type": "markdown",
   "id": "e8b52900-8e45-4387-aef0-e3587fbbf0ac",
   "metadata": {
    "tags": []
   },
   "source": [
    "## Best model"
   ]
  },
  {
   "cell_type": "code",
   "execution_count": 14,
   "id": "bff7a406-7bf6-442a-bd5b-6c211b28136c",
   "metadata": {
    "tags": []
   },
   "outputs": [
    {
     "name": "stderr",
     "output_type": "stream",
     "text": [
      "                                                                                \r"
     ]
    },
    {
     "data": {
      "text/plain": [
       "0.9985467341315518"
      ]
     },
     "execution_count": 14,
     "metadata": {},
     "output_type": "execute_result"
    }
   ],
   "source": [
    "best_model = model_cv.bestModel\n",
    "final_predictions = best_model.transform(train_df)\n",
    "evaluator.evaluate(final_predictions)"
   ]
  },
  {
   "cell_type": "code",
   "execution_count": 15,
   "id": "16a9875a-777d-4abe-afef-c6f879ca5aa5",
   "metadata": {
    "tags": []
   },
   "outputs": [
    {
     "data": {
      "text/plain": [
       "{'maxDepth': 13, 'maxBins': 79, 'numTrees': 37, 'impurity': 'gini'}"
      ]
     },
     "execution_count": 15,
     "metadata": {},
     "output_type": "execute_result"
    }
   ],
   "source": [
    "best_model_params = {\n",
    "    \"maxDepth\": best_model.stages[-1]._java_obj.getMaxDepth(),\n",
    "    \"maxBins\": best_model.stages[-1]._java_obj.getMaxBins(),\n",
    "    \"numTrees\": best_model.stages[-1]._java_obj.getNumTrees(),\n",
    "    \"impurity\": best_model.stages[-1]._java_obj.getImpurity(),\n",
    "}\n",
    "best_model_params"
   ]
  },
  {
   "cell_type": "code",
   "execution_count": 16,
   "id": "b87ddf0e-59ec-4c39-af46-8884d633cf41",
   "metadata": {
    "tags": []
   },
   "outputs": [
    {
     "data": {
      "text/plain": [
       "[VectorAssembler_c9aad202481e,\n",
       " RandomForestClassificationModel: uid=RandomForestClassifier_22f331aa93b1, numTrees=37, numClasses=2, numFeatures=15]"
      ]
     },
     "execution_count": 16,
     "metadata": {},
     "output_type": "execute_result"
    }
   ],
   "source": [
    "best_model.stages"
   ]
  },
  {
   "cell_type": "markdown",
   "id": "927de9d2-3cf0-4d2a-b1be-b6a0c7da7e33",
   "metadata": {},
   "source": [
    "## Model Evalution"
   ]
  },
  {
   "cell_type": "code",
   "execution_count": 17,
   "id": "f3c8fe6f-dae1-4cab-8913-94b84a0c4a41",
   "metadata": {
    "tags": []
   },
   "outputs": [],
   "source": [
    "def evaluate(model, train_df, test_df) -> Tuple:\n",
    "    train_pred = model.transform(train_df)\n",
    "    train_acc = evaluator.evaluate(train_pred)\n",
    "    \n",
    "    test_pred = model.transform(test_df)\n",
    "    test_acc = evaluator.evaluate(test_pred)\n",
    "    \n",
    "    logging.info(f\"Accuracy: {train_acc=:.4f}, {test_acc=:.4f}\")\n",
    "    \n",
    "    return train_pred, test_pred, train_acc, test_acc"
   ]
  },
  {
   "cell_type": "code",
   "execution_count": 18,
   "id": "cba2ee9d-ec8c-46b6-8103-0c5bc919765b",
   "metadata": {
    "tags": []
   },
   "outputs": [
    {
     "name": "stderr",
     "output_type": "stream",
     "text": [
      "2023-03-20 20:11:14.099 INFO 2708430108 - evaluate: Accuracy: train_acc=0.9985, test_acc=0.9976\n"
     ]
    }
   ],
   "source": [
    "train_pred, test_pred, train_acc, test_acc = evaluate(model_cv, train_df, test_df)"
   ]
  },
  {
   "cell_type": "markdown",
   "id": "8df0ecb9-f207-4cb9-8926-abe3c694e8e8",
   "metadata": {},
   "source": [
    "## Precision - Recall"
   ]
  },
  {
   "cell_type": "code",
   "execution_count": 19,
   "id": "30f6e869-c507-4dba-8a44-70f2033fad20",
   "metadata": {
    "tags": []
   },
   "outputs": [],
   "source": [
    "%matplotlib inline\n",
    "plt.style.use('ggplot')\n",
    "\n",
    "import seaborn as sns\n",
    "\n",
    "from sklearn.metrics import confusion_matrix\n",
    "from sklearn import metrics\n",
    "from sklearn.metrics import classification_report\n",
    "\n",
    "\n",
    "def report_cm(y_train, y_test, y_train_pred, y_test_pred, classes):\n",
    "    figure, axes = plt.subplots(1, 2, figsize=(10,5))\n",
    "\n",
    "    train_cm = confusion_matrix(y_train, y_train_pred)\n",
    "    train_cm_df = pd.DataFrame(train_cm, index=classes, columns=classes)\n",
    "    ax = sns.heatmap(train_cm_df, annot=True, ax=axes[1], square=True, fmt=\"d\")\n",
    "    ax.set_title(\"Train CM\")\n",
    "\n",
    "    test_cm = confusion_matrix(y_test, y_test_pred)\n",
    "    test_cm_df = pd.DataFrame(test_cm, index=classes, columns=classes)\n",
    "    ax = sns.heatmap(test_cm_df, annot=True, ax=axes[0], square=True, fmt=\"d\")\n",
    "    ax.set_title(\"Test CM\")\n",
    "\n",
    "    print('\\n' + '-' * 20 + 'Training Performance' + '-' * 20 + '\\n')\n",
    "    print(classification_report(y_train, y_train_pred, target_names=classes))\n",
    "    print('acc: ', metrics.accuracy_score(y_train, y_train_pred))\n",
    "    print('precision: ', metrics.precision_score(y_train, y_train_pred))\n",
    "    print('recall: ', metrics.recall_score(y_train, y_train_pred))\n",
    "\n",
    "    print('\\n' + '-' * 20 + 'Testing Performance' + '-' * 20 + '\\n')\n",
    "    print(classification_report(y_test, y_test_pred, target_names=classes))\n",
    "    print('acc: ', metrics.accuracy_score(y_test, y_test_pred))\n",
    "    print('precision: ', metrics.precision_score(y_test, y_test_pred))\n",
    "    print('recall: ', metrics.recall_score(y_test, y_test_pred))"
   ]
  },
  {
   "cell_type": "code",
   "execution_count": 20,
   "id": "a83f3d7e-0e7d-481f-ba1d-cfead8621450",
   "metadata": {
    "tags": []
   },
   "outputs": [
    {
     "name": "stderr",
     "output_type": "stream",
     "text": [
      "                                                                                \r"
     ]
    }
   ],
   "source": [
    "y_train = train_pred.select(output_feature).toPandas().apply(lambda x: x[0], 1).values.tolist()\n",
    "y_train_pred = train_pred.select(\"prediction\").toPandas().apply(lambda x: x[0], 1).values.tolist()\n",
    "\n",
    "y_test = test_pred.select(output_feature).toPandas().apply(lambda x: x[0], 1).values.tolist()\n",
    "y_test_pred = test_pred.select(\"prediction\").toPandas().apply(lambda x: x[0], 1).values.tolist()"
   ]
  },
  {
   "cell_type": "code",
   "execution_count": 21,
   "id": "f66b9111-219d-4d78-b366-d69f2e6e5317",
   "metadata": {
    "tags": []
   },
   "outputs": [
    {
     "name": "stdout",
     "output_type": "stream",
     "text": [
      "\n",
      "--------------------Training Performance--------------------\n",
      "\n",
      "              precision    recall  f1-score   support\n",
      "\n",
      "   non-fraud       1.00      1.00      1.00    151846\n",
      "       fraud       1.00      0.87      0.93      2384\n",
      "\n",
      "    accuracy                           1.00    154230\n",
      "   macro avg       1.00      0.94      0.97    154230\n",
      "weighted avg       1.00      1.00      1.00    154230\n",
      "\n",
      "acc:  0.9980613369642741\n",
      "precision:  1.0\n",
      "recall:  0.8745805369127517\n",
      "\n",
      "--------------------Testing Performance--------------------\n",
      "\n",
      "              precision    recall  f1-score   support\n",
      "\n",
      "   non-fraud       1.00      1.00      1.00     37825\n",
      "       fraud       1.00      0.90      0.95       663\n",
      "\n",
      "    accuracy                           1.00     38488\n",
      "   macro avg       1.00      0.95      0.97     38488\n",
      "weighted avg       1.00      1.00      1.00     38488\n",
      "\n",
      "acc:  0.9983111619205987\n",
      "precision:  1.0\n",
      "recall:  0.9019607843137255\n"
     ]
    },
    {
     "data": {
      "image/png": "[encoded data removed]",
      "text/plain": [
       "<Figure size 1000x500 with 4 Axes>"
      ]
     },
     "metadata": {},
     "output_type": "display_data"
    }
   ],
   "source": [
    "report_cm(y_train, y_test, y_train_pred, y_test_pred, [\"non-fraud\", \"fraud\"])"
   ]
  },
  {
   "cell_type": "markdown",
   "id": "54e00dda-f813-4958-9013-ceceab77d8fd",
   "metadata": {},
   "source": [
    "## MLFlow"
   ]
  },
  {
   "cell_type": "code",
   "execution_count": 23,
   "id": "c39fcb7b-df4c-4cc6-bbe8-bbac15779aef",
   "metadata": {
    "tags": []
   },
   "outputs": [
    {
     "name": "stderr",
     "output_type": "stream",
     "text": [
      "2023-03-20 20:23:33.778 INFO 2133204636 - <module>: Logging params to MLflow run 4071168823964a67b10859071e04913b ...\n",
      "2023-03-20 20:23:40.277 INFO 2133204636 - <module>: Logging metrics to MLflow run 4071168823964a67b10859071e04913b ...\n",
      "2023-03-20 20:23:40.365 INFO 2133204636 - <module>: roc_auc=0.9976, precision=1.0, recall=0.902\n",
      "2023-03-20 20:23:40.474 INFO 2133204636 - <module>: Saving model ...\n",
      "2023-03-20 20:24:33.681 INFO 2133204636 - <module>: Exporting/logging model ...\n",
      "2023/03/20 20:25:49 WARNING mlflow.utils.environment: Encountered an unexpected error while inferring pip requirements (model URI: /tmp/tmp8lvimmga, flavor: spark), fall back to return ['pyspark==3.0.3']. Set logging level to DEBUG to see the full traceback.\n",
      "2023-03-20 20:25:49.557 INFO credentials - load: Found credentials in shared credentials file: ~/.aws/credentials\n",
      "2023-03-20 20:25:49.805 INFO 2133204636 - <module>: Done\n"
     ]
    }
   ],
   "source": [
    "from mlflow.tracking import MlflowClient\n",
    "\n",
    "\n",
    "os.environ[\"MLFLOW_S3_ENDPOINT_URL\"] = \"https://storage.yandexcloud.net\"\n",
    "os.environ[\"MLFLOW_TRACKING_URI\"] = \"http://10.128.0.16:5000/\"\n",
    "\n",
    "mlflow_client = MlflowClient()\n",
    "mlflow.set_experiment(\"antifraud_rf\")\n",
    "run_name = f\"antifraud_rf_pipeline {dt.datetime.now()}\"\n",
    "output_artifact = \"antifraud_rf_model\"\n",
    "\n",
    "with mlflow.start_run(run_name=run_name) as active_run:\n",
    "    run_id = active_run.info.run_id\n",
    "    logging.info(f\"Logging params to MLflow run {run_id} ...\")\n",
    "    mlflow.log_params(best_model_params)\n",
    "    mlflow.log_param(\"date_from\", dt_from)\n",
    "    mlflow.log_param(\"date_to\", dt_to)\n",
    "    mlflow.log_param(\"dataset_size\", transactions_df.count())\n",
    "    mlflow.log_param(\"train_size\", train_df.count())\n",
    "    mlflow.log_param(\"test_size\", test_df.count())\n",
    "\n",
    "    logging.info(f\"Logging metrics to MLflow run {run_id} ...\")\n",
    "    roc_auc = round(test_acc, 4)\n",
    "    precision = round(metrics.precision_score(y_test, y_test_pred), 4)\n",
    "    recall = round(metrics.recall_score(y_test, y_test_pred), 4)\n",
    "    logging.info(f\"{roc_auc=}, {precision=}, {recall=}\")\n",
    "\n",
    "    mlflow.log_metric(\"roc_auc\", roc_auc)\n",
    "    mlflow.log_metric(\"precision\", precision)\n",
    "    mlflow.log_metric(\"recall\", recall)\n",
    "    \n",
    "    logging.info(\"Saving model ...\")\n",
    "    mlflow.spark.save_model(best_model, output_artifact)\n",
    "\n",
    "    logging.info(\"Exporting/logging model ...\")\n",
    "    mlflow.spark.log_model(best_model, output_artifact)\n",
    "    logging.info(\"Done\")"
   ]
  },
  {
   "cell_type": "code",
   "execution_count": 24,
   "id": "cac1f097-2eab-42c9-b38c-a6f150e917d2",
   "metadata": {},
   "outputs": [],
   "source": [
    "spark.stop()"
   ]
  },
  {
   "cell_type": "code",
   "execution_count": null,
   "id": "30836d8e-9f5e-404b-95fa-4fbd887f832d",
   "metadata": {},
   "outputs": [],
   "source": []
  }
 ],
 "metadata": {
  "kernelspec": {
   "display_name": "Python 3 (ipykernel)",
   "language": "python",
   "name": "python3"
  },
  "language_info": {
   "codemirror_mode": {
    "name": "ipython",
    "version": 3
   },
   "file_extension": ".py",
   "mimetype": "text/x-python",
   "name": "python",
   "nbconvert_exporter": "python",
   "pygments_lexer": "ipython3",
   "version": "3.8.10"
  }
 },
 "nbformat": 4,
 "nbformat_minor": 5
}
