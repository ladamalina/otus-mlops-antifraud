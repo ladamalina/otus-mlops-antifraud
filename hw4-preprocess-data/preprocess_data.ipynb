{
 "cells": [
  {
   "cell_type": "code",
   "execution_count": 25,
   "id": "c4656d90-1d07-4b6e-8285-586fa27553da",
   "metadata": {},
   "outputs": [],
   "source": [
    "import findspark\n",
    "findspark.init()\n",
    "findspark.find()\n",
    "\n",
    "import pyspark\n",
    "from pyspark.sql import SparkSession\n",
    "from pyspark.sql.functions import dayofweek, dayofmonth, col, when, hour\n",
    "from pyspark.sql.window import Window\n",
    "from pyspark.sql import functions as F\n",
    "\n",
    "app_name = \"prepare-data-pyspark\"\n",
    "source_file_fmt = \"csv\" # csv or parquet\n",
    "\n",
    "spark = (\n",
    "    SparkSession.builder\n",
    "        .master(\"yarn\")\n",
    "        .appName(app_name)\n",
    "        .getOrCreate()\n",
    ")\n",
    "spark.conf.set('spark.sql.repl.eagerEval.enabled', True)  # to pretty print pyspark.DataFrame in jupyter"
   ]
  },
  {
   "cell_type": "code",
   "execution_count": 26,
   "id": "4b1bd9aa-8bec-46f1-86b1-0e29c0ed1ac1",
   "metadata": {},
   "outputs": [],
   "source": [
    "hdfs_host = \"rc1a-dataproc-m-0phjwjdfohabk5n0.mdb.yandexcloud.net\"\n",
    "hdfs_src_dir = \"/fraud-data-src\"\n",
    "filename = \"2019-08-22.txt\"\n",
    "filepath = f\"hdfs://{hdfs_host}{hdfs_src_dir}/{filename}\""
   ]
  },
  {
   "cell_type": "code",
   "execution_count": 27,
   "id": "6296b4de-5f98-41ad-992a-039c4f8a3a5b",
   "metadata": {},
   "outputs": [],
   "source": [
    "from pyspark.sql.types import *        \n",
    "\n",
    "schema = StructType([StructField(\"transaction_id\", LongType(), True),\n",
    "                     StructField(\"tx_datetime\", TimestampType(), True),\n",
    "                     StructField(\"customer_id\", LongType(), True),\n",
    "                     StructField(\"terminal_id\", LongType(), True),\n",
    "                     StructField(\"tx_amount\", DoubleType(), True),\n",
    "                     StructField(\"tx_time_seconds\", LongType(), True),\n",
    "                     StructField(\"tx_time_days\", LongType(), True),\n",
    "                     StructField(\"tx_fraud\", LongType(), True),\n",
    "                     StructField(\"tx_fraud_scenario\", LongType(), True)])"
   ]
  },
  {
   "cell_type": "code",
   "execution_count": 28,
   "id": "75f0a190-a183-42d0-bedb-ee5fc07e2cba",
   "metadata": {},
   "outputs": [
    {
     "name": "stdout",
     "output_type": "stream",
     "text": [
      "root\n",
      " |-- transaction_id: long (nullable = true)\n",
      " |-- tx_datetime: timestamp (nullable = true)\n",
      " |-- customer_id: long (nullable = true)\n",
      " |-- terminal_id: long (nullable = true)\n",
      " |-- tx_amount: double (nullable = true)\n",
      " |-- tx_time_seconds: long (nullable = true)\n",
      " |-- tx_time_days: long (nullable = true)\n",
      " |-- tx_fraud: long (nullable = true)\n",
      " |-- tx_fraud_scenario: long (nullable = true)\n",
      "\n"
     ]
    }
   ],
   "source": [
    "if source_file_fmt == \"parquet\":\n",
    "    df = spark.read.option(\"mergeSchema\", \"true\").schema(schema).parquet(filepath)\n",
    "elif source_file_fmt == \"csv\":\n",
    "    df = spark.read.schema(schema).option(\"comment\", \"#\").option(\"header\", False).csv(filepath)\n",
    "else:\n",
    "    raise Exception(f\"Unsupported input {source_file_fmt=}\")\n",
    "df.printSchema()"
   ]
  },
  {
   "cell_type": "code",
   "execution_count": 29,
   "id": "e5a7f7d0-e517-4bae-82a3-b6f83d7d029a",
   "metadata": {},
   "outputs": [
    {
     "data": {
      "text/html": [
       "<table border='1'>\n",
       "<tr><th>transaction_id</th><th>tx_datetime</th><th>customer_id</th><th>terminal_id</th><th>tx_amount</th><th>tx_time_seconds</th><th>tx_time_days</th><th>tx_fraud</th><th>tx_fraud_scenario</th></tr>\n",
       "<tr><td>0</td><td>2019-08-22 06:51:03</td><td>0</td><td>711</td><td>70.91</td><td>24663</td><td>0</td><td>0</td><td>0</td></tr>\n",
       "<tr><td>1</td><td>2019-08-22 05:10:37</td><td>0</td><td>0</td><td>90.55</td><td>18637</td><td>0</td><td>0</td><td>0</td></tr>\n",
       "<tr><td>2</td><td>2019-08-22 19:05:33</td><td>0</td><td>753</td><td>35.38</td><td>68733</td><td>0</td><td>0</td><td>0</td></tr>\n",
       "<tr><td>3</td><td>2019-08-22 07:21:33</td><td>0</td><td>0</td><td>80.41</td><td>26493</td><td>0</td><td>0</td><td>0</td></tr>\n",
       "<tr><td>4</td><td>2019-08-22 09:06:17</td><td>1</td><td>981</td><td>102.83</td><td>32777</td><td>0</td><td>0</td><td>0</td></tr>\n",
       "<tr><td>5</td><td>2019-08-22 18:41:25</td><td>3</td><td>205</td><td>34.2</td><td>67285</td><td>0</td><td>0</td><td>0</td></tr>\n",
       "<tr><td>6</td><td>2019-08-22 03:12:21</td><td>3</td><td>0</td><td>47.2</td><td>11541</td><td>0</td><td>0</td><td>0</td></tr>\n",
       "<tr><td>7</td><td>2019-08-22 22:36:40</td><td>6</td><td>809</td><td>139.39</td><td>81400</td><td>0</td><td>0</td><td>0</td></tr>\n",
       "<tr><td>8</td><td>2019-08-22 17:23:29</td><td>7</td><td>184</td><td>87.24</td><td>62609</td><td>0</td><td>0</td><td>0</td></tr>\n",
       "<tr><td>9</td><td>2019-08-22 21:09:37</td><td>8</td><td>931</td><td>61.7</td><td>76177</td><td>0</td><td>0</td><td>0</td></tr>\n",
       "<tr><td>10</td><td>2019-08-22 11:32:42</td><td>10</td><td>663</td><td>40.71</td><td>41562</td><td>0</td><td>1</td><td>2</td></tr>\n",
       "<tr><td>11</td><td>2019-08-22 03:09:26</td><td>10</td><td>770</td><td>63.91</td><td>11366</td><td>0</td><td>0</td><td>0</td></tr>\n",
       "<tr><td>12</td><td>2019-08-22 15:47:54</td><td>10</td><td>0</td><td>58.89</td><td>56874</td><td>0</td><td>0</td><td>0</td></tr>\n",
       "<tr><td>13</td><td>2019-08-22 21:59:20</td><td>10</td><td>649</td><td>89.24</td><td>79160</td><td>0</td><td>0</td><td>0</td></tr>\n",
       "<tr><td>14</td><td>2019-08-22 20:55:13</td><td>11</td><td>380</td><td>9.89</td><td>75313</td><td>0</td><td>0</td><td>0</td></tr>\n",
       "<tr><td>15</td><td>2019-08-22 16:39:03</td><td>11</td><td>337</td><td>83.36</td><td>59943</td><td>0</td><td>0</td><td>0</td></tr>\n",
       "<tr><td>16</td><td>2019-08-22 23:15:07</td><td>11</td><td>973</td><td>35.12</td><td>83707</td><td>0</td><td>0</td><td>0</td></tr>\n",
       "<tr><td>17</td><td>2019-08-22 07:39:45</td><td>12</td><td>9</td><td>74.0</td><td>27585</td><td>0</td><td>0</td><td>0</td></tr>\n",
       "<tr><td>18</td><td>2019-08-22 05:35:39</td><td>12</td><td>745</td><td>108.63</td><td>20139</td><td>0</td><td>0</td><td>0</td></tr>\n",
       "<tr><td>19</td><td>2019-08-22 10:29:16</td><td>12</td><td>9</td><td>84.45</td><td>37756</td><td>0</td><td>0</td><td>0</td></tr>\n",
       "</table>\n",
       "only showing top 20 rows\n"
      ],
      "text/plain": [
       "+--------------+-------------------+-----------+-----------+---------+---------------+------------+--------+-----------------+\n",
       "|transaction_id|        tx_datetime|customer_id|terminal_id|tx_amount|tx_time_seconds|tx_time_days|tx_fraud|tx_fraud_scenario|\n",
       "+--------------+-------------------+-----------+-----------+---------+---------------+------------+--------+-----------------+\n",
       "|             0|2019-08-22 06:51:03|          0|        711|    70.91|          24663|           0|       0|                0|\n",
       "|             1|2019-08-22 05:10:37|          0|          0|    90.55|          18637|           0|       0|                0|\n",
       "|             2|2019-08-22 19:05:33|          0|        753|    35.38|          68733|           0|       0|                0|\n",
       "|             3|2019-08-22 07:21:33|          0|          0|    80.41|          26493|           0|       0|                0|\n",
       "|             4|2019-08-22 09:06:17|          1|        981|   102.83|          32777|           0|       0|                0|\n",
       "|             5|2019-08-22 18:41:25|          3|        205|     34.2|          67285|           0|       0|                0|\n",
       "|             6|2019-08-22 03:12:21|          3|          0|     47.2|          11541|           0|       0|                0|\n",
       "|             7|2019-08-22 22:36:40|          6|        809|   139.39|          81400|           0|       0|                0|\n",
       "|             8|2019-08-22 17:23:29|          7|        184|    87.24|          62609|           0|       0|                0|\n",
       "|             9|2019-08-22 21:09:37|          8|        931|     61.7|          76177|           0|       0|                0|\n",
       "|            10|2019-08-22 11:32:42|         10|        663|    40.71|          41562|           0|       1|                2|\n",
       "|            11|2019-08-22 03:09:26|         10|        770|    63.91|          11366|           0|       0|                0|\n",
       "|            12|2019-08-22 15:47:54|         10|          0|    58.89|          56874|           0|       0|                0|\n",
       "|            13|2019-08-22 21:59:20|         10|        649|    89.24|          79160|           0|       0|                0|\n",
       "|            14|2019-08-22 20:55:13|         11|        380|     9.89|          75313|           0|       0|                0|\n",
       "|            15|2019-08-22 16:39:03|         11|        337|    83.36|          59943|           0|       0|                0|\n",
       "|            16|2019-08-22 23:15:07|         11|        973|    35.12|          83707|           0|       0|                0|\n",
       "|            17|2019-08-22 07:39:45|         12|          9|     74.0|          27585|           0|       0|                0|\n",
       "|            18|2019-08-22 05:35:39|         12|        745|   108.63|          20139|           0|       0|                0|\n",
       "|            19|2019-08-22 10:29:16|         12|          9|    84.45|          37756|           0|       0|                0|\n",
       "+--------------+-------------------+-----------+-----------+---------+---------------+------------+--------+-----------------+\n",
       "only showing top 20 rows"
      ]
     },
     "execution_count": 29,
     "metadata": {},
     "output_type": "execute_result"
    }
   ],
   "source": [
    "df"
   ]
  },
  {
   "cell_type": "code",
   "execution_count": 22,
   "id": "2be9469f-1e5c-4136-9052-33e06fe4b85d",
   "metadata": {},
   "outputs": [
    {
     "data": {
      "text/html": [
       "<table border='1'>\n",
       "<tr><th>transaction_id</th><th>tx_datetime</th><th>customer_id</th><th>terminal_id</th><th>tx_amount</th><th>tx_time_seconds</th><th>tx_time_days</th><th>tx_fraud</th><th>tx_fraud_scenario</th><th>tx_during_weekend</th></tr>\n",
       "<tr><td>0</td><td>2019-08-22 06:51:03</td><td>0</td><td>711</td><td>70.91</td><td>24663</td><td>0</td><td>0</td><td>0</td><td>0</td></tr>\n",
       "<tr><td>1</td><td>2019-08-22 05:10:37</td><td>0</td><td>0</td><td>90.55</td><td>18637</td><td>0</td><td>0</td><td>0</td><td>0</td></tr>\n",
       "<tr><td>2</td><td>2019-08-22 19:05:33</td><td>0</td><td>753</td><td>35.38</td><td>68733</td><td>0</td><td>0</td><td>0</td><td>0</td></tr>\n",
       "<tr><td>3</td><td>2019-08-22 07:21:33</td><td>0</td><td>0</td><td>80.41</td><td>26493</td><td>0</td><td>0</td><td>0</td><td>0</td></tr>\n",
       "<tr><td>4</td><td>2019-08-22 09:06:17</td><td>1</td><td>981</td><td>102.83</td><td>32777</td><td>0</td><td>0</td><td>0</td><td>0</td></tr>\n",
       "<tr><td>5</td><td>2019-08-22 18:41:25</td><td>3</td><td>205</td><td>34.2</td><td>67285</td><td>0</td><td>0</td><td>0</td><td>0</td></tr>\n",
       "<tr><td>6</td><td>2019-08-22 03:12:21</td><td>3</td><td>0</td><td>47.2</td><td>11541</td><td>0</td><td>0</td><td>0</td><td>0</td></tr>\n",
       "<tr><td>7</td><td>2019-08-22 22:36:40</td><td>6</td><td>809</td><td>139.39</td><td>81400</td><td>0</td><td>0</td><td>0</td><td>0</td></tr>\n",
       "<tr><td>8</td><td>2019-08-22 17:23:29</td><td>7</td><td>184</td><td>87.24</td><td>62609</td><td>0</td><td>0</td><td>0</td><td>0</td></tr>\n",
       "<tr><td>9</td><td>2019-08-22 21:09:37</td><td>8</td><td>931</td><td>61.7</td><td>76177</td><td>0</td><td>0</td><td>0</td><td>0</td></tr>\n",
       "<tr><td>10</td><td>2019-08-22 11:32:42</td><td>10</td><td>663</td><td>40.71</td><td>41562</td><td>0</td><td>1</td><td>2</td><td>0</td></tr>\n",
       "<tr><td>11</td><td>2019-08-22 03:09:26</td><td>10</td><td>770</td><td>63.91</td><td>11366</td><td>0</td><td>0</td><td>0</td><td>0</td></tr>\n",
       "<tr><td>12</td><td>2019-08-22 15:47:54</td><td>10</td><td>0</td><td>58.89</td><td>56874</td><td>0</td><td>0</td><td>0</td><td>0</td></tr>\n",
       "<tr><td>13</td><td>2019-08-22 21:59:20</td><td>10</td><td>649</td><td>89.24</td><td>79160</td><td>0</td><td>0</td><td>0</td><td>0</td></tr>\n",
       "<tr><td>14</td><td>2019-08-22 20:55:13</td><td>11</td><td>380</td><td>9.89</td><td>75313</td><td>0</td><td>0</td><td>0</td><td>0</td></tr>\n",
       "<tr><td>15</td><td>2019-08-22 16:39:03</td><td>11</td><td>337</td><td>83.36</td><td>59943</td><td>0</td><td>0</td><td>0</td><td>0</td></tr>\n",
       "<tr><td>16</td><td>2019-08-22 23:15:07</td><td>11</td><td>973</td><td>35.12</td><td>83707</td><td>0</td><td>0</td><td>0</td><td>0</td></tr>\n",
       "<tr><td>17</td><td>2019-08-22 07:39:45</td><td>12</td><td>9</td><td>74.0</td><td>27585</td><td>0</td><td>0</td><td>0</td><td>0</td></tr>\n",
       "<tr><td>18</td><td>2019-08-22 05:35:39</td><td>12</td><td>745</td><td>108.63</td><td>20139</td><td>0</td><td>0</td><td>0</td><td>0</td></tr>\n",
       "<tr><td>19</td><td>2019-08-22 10:29:16</td><td>12</td><td>9</td><td>84.45</td><td>37756</td><td>0</td><td>0</td><td>0</td><td>0</td></tr>\n",
       "</table>\n",
       "only showing top 20 rows\n"
      ],
      "text/plain": [
       "+--------------+-------------------+-----------+-----------+---------+---------------+------------+--------+-----------------+-----------------+\n",
       "|transaction_id|        tx_datetime|customer_id|terminal_id|tx_amount|tx_time_seconds|tx_time_days|tx_fraud|tx_fraud_scenario|tx_during_weekend|\n",
       "+--------------+-------------------+-----------+-----------+---------+---------------+------------+--------+-----------------+-----------------+\n",
       "|             0|2019-08-22 06:51:03|          0|        711|    70.91|          24663|           0|       0|                0|                0|\n",
       "|             1|2019-08-22 05:10:37|          0|          0|    90.55|          18637|           0|       0|                0|                0|\n",
       "|             2|2019-08-22 19:05:33|          0|        753|    35.38|          68733|           0|       0|                0|                0|\n",
       "|             3|2019-08-22 07:21:33|          0|          0|    80.41|          26493|           0|       0|                0|                0|\n",
       "|             4|2019-08-22 09:06:17|          1|        981|   102.83|          32777|           0|       0|                0|                0|\n",
       "|             5|2019-08-22 18:41:25|          3|        205|     34.2|          67285|           0|       0|                0|                0|\n",
       "|             6|2019-08-22 03:12:21|          3|          0|     47.2|          11541|           0|       0|                0|                0|\n",
       "|             7|2019-08-22 22:36:40|          6|        809|   139.39|          81400|           0|       0|                0|                0|\n",
       "|             8|2019-08-22 17:23:29|          7|        184|    87.24|          62609|           0|       0|                0|                0|\n",
       "|             9|2019-08-22 21:09:37|          8|        931|     61.7|          76177|           0|       0|                0|                0|\n",
       "|            10|2019-08-22 11:32:42|         10|        663|    40.71|          41562|           0|       1|                2|                0|\n",
       "|            11|2019-08-22 03:09:26|         10|        770|    63.91|          11366|           0|       0|                0|                0|\n",
       "|            12|2019-08-22 15:47:54|         10|          0|    58.89|          56874|           0|       0|                0|                0|\n",
       "|            13|2019-08-22 21:59:20|         10|        649|    89.24|          79160|           0|       0|                0|                0|\n",
       "|            14|2019-08-22 20:55:13|         11|        380|     9.89|          75313|           0|       0|                0|                0|\n",
       "|            15|2019-08-22 16:39:03|         11|        337|    83.36|          59943|           0|       0|                0|                0|\n",
       "|            16|2019-08-22 23:15:07|         11|        973|    35.12|          83707|           0|       0|                0|                0|\n",
       "|            17|2019-08-22 07:39:45|         12|          9|     74.0|          27585|           0|       0|                0|                0|\n",
       "|            18|2019-08-22 05:35:39|         12|        745|   108.63|          20139|           0|       0|                0|                0|\n",
       "|            19|2019-08-22 10:29:16|         12|          9|    84.45|          37756|           0|       0|                0|                0|\n",
       "+--------------+-------------------+-----------+-----------+---------+---------------+------------+--------+-----------------+-----------------+\n",
       "only showing top 20 rows"
      ]
     },
     "execution_count": 22,
     "metadata": {},
     "output_type": "execute_result"
    }
   ],
   "source": [
    "windows_size_in_days = [1, 7, 30]\n",
    "delay_window = 7\n",
    "days = lambda i: i * 86400\n",
    "delay_period = days(delay_window)\n",
    "\n",
    "\n",
    "def get_customer_spending_behaviour_features(spark_df):\n",
    "    for window_size in windows_size_in_days:\n",
    "        windowSpec = Window().partitionBy(['customer_id']).orderBy(col('tx_datetime').cast('timestamp').cast('long')).rangeBetween(-days(window_size), 0)\n",
    "        spark_df = spark_df.withColumn('customer_id_nb_tx_'+str(window_size)+'day_window', F.count('*').over(windowSpec)).orderBy('tx_datetime')\n",
    "        spark_df = spark_df.withColumn('customer_id_avg_amount_'+str(window_size)+'day_window', F.mean('tx_amount').over(windowSpec)).orderBy('tx_datetime')\n",
    "\n",
    "    return spark_df\n",
    "\n",
    "\n",
    "def get_count_risk_rolling_window(spark_df):\n",
    "    windowSpec = Window().partitionBy(['terminal_id']).orderBy(col('tx_datetime').cast('timestamp').cast('long')).rangeBetween(-delay_period, 0)\n",
    "    spark_df = spark_df.withColumn('nb_fraud_delay', F.sum('tx_fraud').over(windowSpec)).orderBy('tx_datetime')\n",
    "    spark_df = spark_df.withColumn('nb_tx_delay', F.count('tx_fraud').over(windowSpec)).orderBy('tx_datetime')\n",
    "\n",
    "    for window_size in windows_size_in_days:\n",
    "        windowSpec = Window().partitionBy(['terminal_id']).orderBy(col('tx_datetime').cast('timestamp').cast('long')).rangeBetween(-days(window_size)-delay_period, 0)\n",
    "        spark_df = spark_df.withColumn('nb_fraud_delay_window', F.sum('tx_fraud').over(windowSpec)).orderBy('tx_datetime')\n",
    "        spark_df = spark_df.withColumn('nb_tx_delay_window', F.count('tx_fraud').over(windowSpec)).orderBy('tx_datetime')\n",
    "        spark_df = spark_df.withColumn('nb_fraud_window', spark_df['nb_fraud_delay_window']-spark_df['tx_fraud_delay'])\n",
    "        spark_df = spark_df.withColumn('terminal_id_nb_tx_'+str(window_size)+'day_window', spark_df['nb_tx_delay_window']-spark_df['nb_tx_delay'])\n",
    "        spark_df = spark_df.withColumn('terminal_id_risk_'+str(window_size)+'day_window', spark_df['nb_fraud_window']/spark_df['terminal_id_nb_tx_'+str(window_size)+'day_window'])\n",
    "\n",
    "    spark_df = spark_df.na.fill(0)\n",
    "    spark_df = spark_df.drop('nb_fraud_delay', 'nb_tx_delay', 'nb_fraud_delay_window', 'nb_tx_delay_window', 'nb_fraud_window')\n",
    "\n",
    "    return spark_df\n",
    "\n",
    "\n",
    "def preprocess_transactions(spark_df):\n",
    "    spark_df = spark_df.withColumn('tx_during_weekend', dayofweek(spark_df.TX_DATETIME))\n",
    "    spark_df = spark_df.withColumn('tx_during_weekend', when((spark_df['tx_during_weekend'] == 1) | (spark_df['tx_during_weekend'] == 7), 1).otherwise(0))\n",
    "\n",
    "    spark_df = spark_df.withColumn('tx_during_night', hour(spark_df.TX_DATETIME))\n",
    "    spark_df = spark_df.withColumn('tx_during_night', when(spark_df['tx_during_night'] <= 6, 1).otherwise(0))\n",
    "\n",
    "    spark_df = get_customer_spending_behaviour_features(spark_df)\n",
    "    spark_df = get_count_risk_rolling_window(spark_df)\n",
    "\n",
    "    return spark_df"
   ]
  }
 ],
 "metadata": {
  "kernelspec": {
   "display_name": "Python 3",
   "language": "python",
   "name": "python3"
  },
  "language_info": {
   "codemirror_mode": {
    "name": "ipython",
    "version": 3
   },
   "file_extension": ".py",
   "mimetype": "text/x-python",
   "name": "python",
   "nbconvert_exporter": "python",
   "pygments_lexer": "ipython3",
   "version": "3.8.10"
  }
 },
 "nbformat": 4,
 "nbformat_minor": 5
}
